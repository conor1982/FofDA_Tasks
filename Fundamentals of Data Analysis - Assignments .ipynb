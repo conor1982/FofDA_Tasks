{
 "cells": [
  {
   "cell_type": "markdown",
   "metadata": {},
   "source": [
    "# Fundamentals of Data Analysis - Assignments\n",
    "\n",
    "This file contains the output of each assignment as part of the Fundamentals of Data Analysis module."
   ]
  },
  {
   "cell_type": "markdown",
   "metadata": {},
   "source": [
    "## Overview\n",
    "\n",
    "This module will contain four different assingments to be completed\n",
    "\n",
    "* Assignment 1 Counts\n"
   ]
  },
  {
   "cell_type": "markdown",
   "metadata": {},
   "source": [
    "### Assignment 1 Counts\n",
    "Write a Python function called counts that takes a list as\n",
    "input and returns a dictionary of unique items in the list as keys and the number of\n",
    "times each item appears as values. So, the input ['A', 'A', 'B', 'C', 'A']\n",
    "should have output {'A': 3, 'B': 1, 'C': 1}\n",
    "\n"
   ]
  },
  {
   "cell_type": "markdown",
   "metadata": {},
   "source": [
    "#### Assignment Project Plan\n",
    "* Jupyter notebook - refer to lecture videos\n",
    "* Revisit functions in Python. (Week 2 lecture vid)\n",
    "* Research user input of lists - case sensitive, list that can take numbers etc. Is user input required?\n",
    "* Research potential error handling whne deciding on what list to be used - String only, one letter string only etc.\n",
    "* Research count function in Python\n",
    "* Google for lists to dictionary counts etc. - no package allowed\n",
    "* Revise for loops\n",
    "***\n",
    "***\n",
    "- Bookmark online references!!"
   ]
  },
  {
   "cell_type": "code",
   "execution_count": null,
   "metadata": {},
   "outputs": [],
   "source": []
  }
 ],
 "metadata": {
  "kernelspec": {
   "display_name": "Python 3",
   "language": "python",
   "name": "python3"
  },
  "language_info": {
   "codemirror_mode": {
    "name": "ipython",
    "version": 3
   },
   "file_extension": ".py",
   "mimetype": "text/x-python",
   "name": "python",
   "nbconvert_exporter": "python",
   "pygments_lexer": "ipython3",
   "version": "3.8.3"
  }
 },
 "nbformat": 4,
 "nbformat_minor": 4
}

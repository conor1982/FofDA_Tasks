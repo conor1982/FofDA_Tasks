{
 "cells": [
  {
   "cell_type": "markdown",
   "metadata": {},
   "source": [
    "# Fundamentals of Data Analysis - Assignments\n",
    "\n",
    "This file contains the output of each assignment as part of the Fundamentals of Data Analysis module."
   ]
  },
  {
   "cell_type": "markdown",
   "metadata": {},
   "source": [
    "## Overview\n",
    "\n",
    "This module will contain four different assingments to be completed\n",
    "\n",
    "* Assignment 1 Counts\n",
    "* Assignment 2 Diceroll\n",
    "\n",
    "***"
   ]
  },
  {
   "cell_type": "markdown",
   "metadata": {},
   "source": [
    "<br>\n",
    "\n",
    "### Assignment 1 Counts\n",
    "Write a Python function called counts that takes a list as\n",
    "input and returns a dictionary of unique items in the list as keys and the number of\n",
    "times each item appears as values. So, the input ['A', 'A', 'B', 'C', 'A']\n",
    "should have output {'A': 3, 'B': 1, 'C': 1}\n",
    "\n",
    "\n"
   ]
  },
  {
   "cell_type": "markdown",
   "metadata": {},
   "source": [
    "### Refences Assignment 1\n",
    "\n",
    "[1] Tutorialspoint, Counting Frequencies in a list ising dictionary in Python; https://www.tutorialspoint.com/counting-the-frequencies-in-a-list-using-dictionary-in-python\n",
    "\n",
    "[2] Kite, How to count a frequency in Python; https://www.kite.com/python/answers/how-to-count-item-frequency-in-python\n",
    "\n",
    "[3] W3schools, Python List count() Method https://www.w3schools.com/python/ref_list_count.asp\n",
    "\n",
    "[4] GMIT lecture Video, For loops, Ian McLoughlin; https://web.microsoftstream.com/video/8492c53c-a684-4da9-a2c5-bce1d5c367a9\n",
    "\n",
    "[5] Adding item to a dictionary; https://www.w3schools.com/python/python_dictionaries.asp"
   ]
  },
  {
   "cell_type": "markdown",
   "metadata": {},
   "source": [
    "#### Assignment Project Plan\n",
    "* Jupyter notebook - refer to lecture videos\n",
    "* Revisit functions in Python. (Week 2 lecture vid)\n",
    "* Research user input of lists - case sensitive, list that can take numbers etc. Is user input required?\n",
    "* Research potential error handling whne deciding on what list to be used - String only, one letter string only etc.\n",
    "* Research count function in Python\n",
    "* Google for lists to dictionary counts etc. - no package allowed\n",
    "* Revise for loops\n",
    "\n",
    "- Bookmark online references!!"
   ]
  },
  {
   "cell_type": "markdown",
   "metadata": {},
   "source": [
    "###### Lists for Function Test"
   ]
  },
  {
   "cell_type": "code",
   "execution_count": 75,
   "metadata": {},
   "outputs": [],
   "source": [
    "#List 1 - upper case letters\n",
    "list1 = ['A','A','B','C','A']\n",
    "\n",
    "#List 2 - lower case letters\n",
    "list2 = ['a','a','b','c','a']\n",
    "\n",
    "#list 3 - mix of lower and upper case\n",
    "list3 = ['A','a','B','c','C','A']\n",
    "\n",
    "#List 4 - mix of upper case leters, lower case letter, string symbols, integers, floats, words\n",
    "list4 = [1,2,3,4.56,\"22\",\"22\",\"@@\",\"@@\",\"@@\",'###','hello', 'hello',1255,1255.0]\n",
    "\n",
    "#List 5 - integers\n",
    "list5 = [1,1,1,1,3,4,5,6,7,7,7,7,7,7,7,9,9,9,9,9,9,9,9,9]\n",
    "\n",
    "#List 6 - floats\n",
    "list6 = [0.5654,0,5654,.11,1.23,1.23,1.23]\n",
    "\n",
    "#List 7 - Names\n",
    "list7 = ['Conor','Conor','Leo','Leo','Leo','Nancy','Rose','Connie','Aideen','Aideen']\n",
    "\n",
    "#List 8 - Joined Lists\n",
    "list8 = list1 + list5"
   ]
  },
  {
   "cell_type": "markdown",
   "metadata": {},
   "source": [
    "##### Function test\n",
    "\n",
    "Test the function with different types of lists"
   ]
  },
  {
   "cell_type": "code",
   "execution_count": 245,
   "metadata": {},
   "outputs": [],
   "source": [
    "#https://stackoverflow.com/questions/1801668/convert-a-python-list-with-strings-all-to-lowercase-or-uppercase\n",
    "#https://www.python-course.eu/python3_lambda.php\n",
    "\n",
    "#count function version 2 - case sensitivity\n",
    "def counts(l):\n",
    "    \"\"\"\n",
    "    A function to count the items in a list and returns a Dictionary with Keys and Counts\n",
    "    \n",
    "    \"\"\"\n",
    "    #var st (string) - lambda function to change all items to a string\n",
    "    #required for integer and float values with a list\n",
    "    st = list(map(lambda x: str(x),l))\n",
    "    \n",
    "    #var cs (case senstitive) - Lambda function to change all items to lowercase\n",
    "    cs = list(map(lambda x: x.lower(),st))\n",
    "    \n",
    "    #variable to create an empty dictionary\n",
    "    frequency = {}\n",
    "    \n",
    "    #a for loop to loop through list items\n",
    "    \n",
    "    for list_item in cs:\n",
    "        \n",
    "        #loop through list and add items to dict with a count\n",
    "        #list item dictionay key...........l.count dictionary values\n",
    "        #.title to capitalize the Key value of dictionary\n",
    "        frequency[list_item.title()] = cs.count(list_item)\n",
    "    #print output\n",
    "    print(frequency)"
   ]
  },
  {
   "cell_type": "code",
   "execution_count": 246,
   "metadata": {},
   "outputs": [
    {
     "name": "stdout",
     "output_type": "stream",
     "text": [
      "Test 1: Uppercase Letters\n",
      "{'A': 3, 'B': 1, 'C': 1}\n",
      " \n",
      "Test 2: Lowercase Letters\n",
      "{'A': 3, 'B': 1, 'C': 1}\n",
      " \n",
      "Test 3: mix of lower and upper case:\n",
      "{'A': 3, 'B': 1, 'C': 2}\n",
      " \n",
      "Test 4: mix of upper case leters, lower case letter, string symbols, integers, floats, words\n",
      "{'1': 1, '2': 1, '3': 1, '4.56': 1, '22': 2, '@@': 3, '###': 1, 'Hello': 2, '1255': 1, '1255.0': 1}\n",
      " \n",
      "Test 5:integers \n",
      "{'1': 4, '3': 1, '4': 1, '5': 1, '6': 1, '7': 7, '9': 9}\n",
      " \n",
      "Test 6: floating numbers\n",
      "{'0.5654': 1, '0': 1, '5654': 1, '0.11': 1, '1.23': 3}\n",
      "\n",
      "Test 7: words, names etc.\n",
      "{'Conor': 2, 'Leo': 3, 'Nancy': 1, 'Rose': 1, 'Connie': 1, 'Aideen': 2}\n",
      " \n",
      "Test 8: Joined Lists\n",
      "{'A': 3, 'B': 1, 'C': 1, '1': 4, '3': 1, '4': 1, '5': 1, '6': 1, '7': 7, '9': 9}\n"
     ]
    }
   ],
   "source": [
    "#Test1\n",
    "print(\"Test 1: Uppercase Letters\")\n",
    "counts(list1)\n",
    "print(\" \")\n",
    "#Test2\n",
    "print(\"Test 2: Lowercase Letters\")\n",
    "counts(list2)\n",
    "print(\" \")\n",
    "#Test3\n",
    "print(\"Test 3: mix of lower and upper case:\")\n",
    "counts(list3)\n",
    "print(\" \")\n",
    "#Test4\n",
    "print(\"Test 4: mix of upper case leters, lower case letter, string symbols, integers, floats, words\")\n",
    "counts(list4)\n",
    "print(\" \")\n",
    "#Test5\n",
    "print(\"Test 5:integers \")\n",
    "counts(list5)\n",
    "print(\" \")\n",
    "#Test6\n",
    "print(\"Test 6: floating numbers\")\n",
    "counts(list6)\n",
    "print(\"\")\n",
    "#Test7\n",
    "print(\"Test 7: words, names etc.\")\n",
    "counts(list7)\n",
    "print(\" \")\n",
    "print('Test 8: Joined Lists')\n",
    "#Test8\n",
    "counts(list8)"
   ]
  },
  {
   "cell_type": "markdown",
   "metadata": {},
   "source": [
    "<br>\n",
    "\n",
    "\n",
    "***"
   ]
  },
  {
   "cell_type": "markdown",
   "metadata": {},
   "source": [
    "### Assignment 2 Counts\n",
    "Write a Python function called dicerolls that simulates\n",
    "rolling dice. Your function should take two parameters: the number of dice k and\n",
    "the number of times to roll the dice n. The function should simulate randomly\n",
    "rolling k dice n times, keeping track of each total face value. It should then return\n",
    "a dictionary with the number of times each possible total face value occurred. So,\n",
    "calling the function as diceroll(k=2, n=1000) should return a dictionary like: {'2': 19, '3': 50, '4': 82}\n"
   ]
  },
  {
   "cell_type": "markdown",
   "metadata": {},
   "source": [
    "### References Assignment 2\n",
    "\n",
    "[6] https://numpy.org/doc/stable/reference/random/generator.html#numpy.random.Generator https://numpy.org/doc/stable/reference/random/generated/numpy.random.Generator.integers.html#numpy.random.Generator.integers\n",
    "\n",
    "[7] https://numpy.org/doc/stable/reference/random/generated/numpy.random.Generator.integers.html#numpy.random.Generator.integers\n",
    "\n",
    "[8] https://www.sololearn.com/Discuss/1256683/python-dice-simulator-int-object-is-not-iterable\n",
    "\n",
    "[9] https://stackoverflow.com/questions/33069476/simulating-rolling-2-dice-in-python\n",
    "\n",
    "[10] https://stackoverflow.com/questions/20577840/python-dictionary-sorting-in-descending-order-based-on-values\n",
    "\n",
    "[11] https://stackoverflow.com/questions/53431971/plotting-histogram-on-python-with-dictionary\n",
    "\n",
    "[12] https://stackoverflow.com/questions/17368554/python-how-to-simulate-the-roll-of-a-dice-100-times\n",
    "\n",
    "[13] https://www.w3schools.com/python/gloss_python_for_nested.asp\n",
    "\n",
    "[14] https://www.quora.com/If-4-dice-are-rolled-what-is-the-probability-of-getting-a-sum-of-5\n",
    "\n"
   ]
  },
  {
   "cell_type": "markdown",
   "metadata": {},
   "source": [
    "#### Assignment Project Plan\n",
    "* Random Numbers - Numpy or Random libaries - maybe Numpy as it being used for in Prog for DA module\n",
    "* Research counter libary\n",
    "* Google for lists to dictionary counts etc.\n",
    "* Revise for loops\n",
    "* While loops\n",
    "* Seaborn distplot or Matplotlib for Histogram examples of different *n* sizes of the function\n",
    "- Bookmark online references!!"
   ]
  },
  {
   "cell_type": "code",
   "execution_count": 247,
   "metadata": {},
   "outputs": [],
   "source": [
    "import numpy as np\n",
    "import matplotlib.pyplot as plt\n",
    "import operator\n",
    "\n",
    "rng = np.random.default_rng()\n",
    "\n",
    "#initial blank function\n",
    "def diceroll(k,n):\n",
    "    \n",
    "    \"\"\"\n",
    "    A function to simulate 2 dice being thrown 1000 time and out the reults of the total face value in a dictionary\n",
    "    \n",
    "    \"\"\"\n",
    "    #variable to create an empty dictionary\n",
    "    resultdict = {}\n",
    "    \n",
    "    #list for dice numbers rolled\n",
    "    result = []\n",
    "    \n",
    "    #dice counter for number of dice\n",
    "    dice = 0\n",
    "    \n",
    "    #for loop through number of throws\n",
    "    for i in range(n):\n",
    "        #for loop for number of dice used \n",
    "        for i in range(k):\n",
    "            #random number from numy integer function, += used in loop\n",
    "            #integer function return random integer including 1 and 6. endpoint = True makes 6 inclusive\n",
    "            dice += rng.integers(1,6,endpoint=True)\n",
    "            \n",
    "        #apped random intger number   \n",
    "        result.append(dice)\n",
    "        \n",
    "        #create dictionary key and values\n",
    "        resultdict[dice] = result.count(dice)\n",
    "        \n",
    "        #reset of count of dice to loop through again\n",
    "        dice = 0\n",
    "        \n",
    "        #s = dict(sorted(resultdict.items(),reverse=False))\n",
    "        \n",
    "     #return a dictionary with keys sorted in ascending value   \n",
    "    return dict(sorted(resultdict.items(),reverse=False))    "
   ]
  },
  {
   "cell_type": "markdown",
   "metadata": {},
   "source": [
    "##### Plotting the Function"
   ]
  },
  {
   "cell_type": "code",
   "execution_count": 248,
   "metadata": {},
   "outputs": [],
   "source": [
    "#variables for each simulation\n",
    "\n",
    "# one dice a thousand time\n",
    "rollone = diceroll(1,1000)\n",
    "\n",
    "#two dice a thousand times\n",
    "rolltwo = diceroll(2,1000)\n",
    "\n",
    "#three dice a thiusan times\n",
    "rollthree = diceroll(3,1000)\n",
    "\n",
    "#four dice a thousand times\n",
    "rollfour = diceroll(4,1000)"
   ]
  },
  {
   "cell_type": "code",
   "execution_count": 249,
   "metadata": {},
   "outputs": [],
   "source": [
    "# extracting dictionary key and value for plotting\n",
    "labels1, values1 = zip(*rollone.items())\n",
    "labels2, values2 = zip(*rolltwo.items())\n",
    "labels3, values3 = zip(*rollthree.items())\n",
    "labels4, values4 = zip(*rollfour.items())"
   ]
  },
  {
   "cell_type": "markdown",
   "metadata": {},
   "source": [
    "Bar charts to illustrate the use of different number of dice used in the function "
   ]
  },
  {
   "cell_type": "code",
   "execution_count": 273,
   "metadata": {},
   "outputs": [
    {
     "data": {
      "image/png": "[encoded data removed]",
      "text/plain": [
       "<Figure size 1296x1008 with 4 Axes>"
      ]
     },
     "metadata": {
      "needs_background": "light"
     },
     "output_type": "display_data"
    }
   ],
   "source": [
    "plt.rcParams['figure.figsize'] = [18, 14]\n",
    "plt.suptitle(\"Plots of the different number of Dice Rolled\",fontsize=24 )\n",
    "\n",
    "plt.subplot(2,2,1)\n",
    "plt.bar(labels1,values1)\n",
    "plt.title(\"Plot 1 1: One Dice Rolled 1000 Times\")\n",
    "plt.ylabel('Sum of Values')\n",
    "plt.xlabel('Dice Totals')\n",
    "\n",
    "plt.subplot(2,2,2)\n",
    "plt.bar(labels2,values2)\n",
    "plt.title(\"Plot 2: Two Dice Rolled 1000 Times\")\n",
    "plt.ylabel('Sum of Values')\n",
    "plt.xlabel('Dice Totals')\n",
    "\n",
    "plt.subplot(2,2,3)\n",
    "plt.bar(labels3,values3)\n",
    "plt.title(\"Plot 3: Three Dice Rolled 1000 Times\")\n",
    "plt.ylabel('Sum of Values')\n",
    "plt.xlabel('Dice Totals')\n",
    "\n",
    "plt.subplot(2,2,4)\n",
    "plt.bar(labels4,values4)\n",
    "plt.title(\"Plot 4: Four Dice Rolled 1000 Times\")\n",
    "plt.ylabel('Sum of Values')\n",
    "plt.xlabel('Dice Totals');\n"
   ]
  },
  {
   "cell_type": "markdown",
   "metadata": {},
   "source": [
    "Possible out outcomes depending on number of dice used\n",
    "\n"
   ]
  },
  {
   "cell_type": "markdown",
   "metadata": {},
   "source": [
    "We can observe from the above plot how the number of dice used changes the distribuiton.\n",
    "For one dice used there are 6 possible outcomes, for two there are 36, for 4 there are 1296!!!\n",
    "\n",
    "If we take rolling a total value of 2, in plot 1 there is a 1 in 6 chance of getting two. Using two dice this is 1 in 36. Using more than two dice you can't get a value of two.\n",
    "\n",
    "The more dice you use, there are more possible combinations to get different totals. For two dice, there are more combinations of rolling a total of 7 than any other total value.\n",
    "\n",
    "1+6, 2+5, 3+4, 4+3, 5+2, 6+1 are all the different combinations that produce a total value of 7. We can see this clearly illustrated in plot 2.\n",
    "\n",
    "In the code below we can see the different possible outcomes for each total depending on how many dice are thrown. The number of outcomes determine the % probability.\n",
    "\n",
    "$P(E) = \\frac{n(E)}{n(S)}$\n",
    "\n",
    "For example: For Two Dice the probabilty of rolling a total of 7\n",
    "\n",
    "\n",
    "* n(E) = 6\n",
    "* n(S) = 36 (6**2)\n",
    "* P(E) = 6/36 which is approx *17%*\n",
    "\n"
   ]
  },
  {
   "cell_type": "markdown",
   "metadata": {},
   "source": [
    "We can create a dictionary using our Counts function to see the different number of possible outcomes for creating different totals depending on how many dice are used."
   ]
  },
  {
   "cell_type": "code",
   "execution_count": 251,
   "metadata": {},
   "outputs": [],
   "source": [
    "#creating a dictionary using our Counts function to see the different number of possible outcomes for creating different totals\n",
    "#depending on how many dice are used\n",
    "\n",
    "#empty lists to append each dice number range\n",
    "onedicepo = []\n",
    "twodicepo = []\n",
    "threedicepo = []\n",
    "fourdicepo = []\n",
    "\n",
    "#nested for loops for 4 different dice\n",
    "for d1 in range(1,7,1):\n",
    "    #append first range in the first list\n",
    "    onedicepo.append(d1)\n",
    "    for d2 in range(1,7,1):\n",
    "        #variable combines two dice together\n",
    "        twodice = d1 + d2\n",
    "        twodicepo.append(twodice)\n",
    "        for d3 in range(1,7,1):\n",
    "            threedice = d1+d2+d3\n",
    "            threedicepo.append(threedice)\n",
    "            for d4 in range(1,7,1):\n",
    "                fourdice = d1+d2+d3+d4\n",
    "                fourdicepo.append(fourdice)"
   ]
  },
  {
   "cell_type": "code",
   "execution_count": 252,
   "metadata": {},
   "outputs": [
    {
     "name": "stdout",
     "output_type": "stream",
     "text": [
      "Possible Outcomes of Totals for 1 Dice\n",
      "{'1': 1, '2': 1, '3': 1, '4': 1, '5': 1, '6': 1}\n",
      " \n",
      "Possible Outcomes of Totals for 2 Dice\n",
      "{'2': 1, '3': 2, '4': 3, '5': 4, '6': 5, '7': 6, '8': 5, '9': 4, '10': 3, '11': 2, '12': 1}\n",
      " \n",
      "Possible Outcomes of Totals for 3 Dice\n",
      "{'3': 1, '4': 3, '5': 6, '6': 10, '7': 15, '8': 21, '9': 25, '10': 27, '11': 27, '12': 25, '13': 21, '14': 15, '15': 10, '16': 6, '17': 3, '18': 1}\n",
      " \n",
      "Possible Outcomes of Totals for 4 Dice\n",
      "{'4': 1, '5': 4, '6': 10, '7': 20, '8': 35, '9': 56, '10': 80, '11': 104, '12': 125, '13': 140, '14': 146, '15': 140, '16': 125, '17': 104, '18': 80, '19': 56, '20': 35, '21': 20, '22': 10, '23': 4, '24': 1}\n"
     ]
    }
   ],
   "source": [
    "#Utilising the counts function we created from Assingment 1\n",
    "\n",
    "print(\"Possible Outcomes of Totals for 1 Dice\")\n",
    "counts(onedicepo)\n",
    "print(\" \")\n",
    "print(\"Possible Outcomes of Totals for 2 Dice\")\n",
    "counts(twodicepo)\n",
    "print(\" \")\n",
    "print(\"Possible Outcomes of Totals for 3 Dice\")\n",
    "counts(threedicepo)\n",
    "print(\" \")\n",
    "print(\"Possible Outcomes of Totals for 4 Dice\")\n",
    "counts(fourdicepo)"
   ]
  },
  {
   "cell_type": "code",
   "execution_count": 266,
   "metadata": {},
   "outputs": [],
   "source": [
    "#zip items for plotting twodicepo variables\n",
    "#using Counter function from collections to unzip values\n",
    "\n",
    "from collections import Counter\n",
    "l, v = zip(*Counter(twodicepo).items())"
   ]
  },
  {
   "cell_type": "code",
   "execution_count": 272,
   "metadata": {
    "scrolled": true
   },
   "outputs": [
    {
     "data": {
      "image/png": "[encoded data removed]",
      "text/plain": [
       "<Figure size 1296x1008 with 2 Axes>"
      ]
     },
     "metadata": {
      "needs_background": "light"
     },
     "output_type": "display_data"
    }
   ],
   "source": [
    "plt.subplot(2,1,1)\n",
    "plt.suptitle(\"Comparison of Two Dice Rolled 1000 Times V Possible Outcomes\",fontsize=18 )\n",
    "plt.bar(labels2,values2)\n",
    "plt.title(\"Two Dice Rolled 1000 Times\")\n",
    "plt.ylabel('Sum of Values')\n",
    "plt.xlabel('Dice Totals')\n",
    "\n",
    "plt.subplot(2,1,2)\n",
    "plt.bar(l,v)\n",
    "plt.title(\"Possible Outcomes of Two Dice Totals\")\n",
    "plt.ylabel('Possible Outcomes')\n",
    "plt.xlabel('Dice Totals');"
   ]
  },
  {
   "cell_type": "markdown",
   "metadata": {},
   "source": [
    "We can observe from the above plots for two dice rolled 1000 times and the possible outcome totals for two doce that their distribution is practically mirrored!\n",
    "\n",
    "***"
   ]
  },
  {
   "cell_type": "code",
   "execution_count": null,
   "metadata": {},
   "outputs": [],
   "source": []
  }
 ],
 "metadata": {
  "kernelspec": {
   "display_name": "Python 3",
   "language": "python",
   "name": "python3"
  },
  "language_info": {
   "codemirror_mode": {
    "name": "ipython",
    "version": 3
   },
   "file_extension": ".py",
   "mimetype": "text/x-python",
   "name": "python",
   "nbconvert_exporter": "python",
   "pygments_lexer": "ipython3",
   "version": "3.8.3"
  }
 },
 "nbformat": 4,
 "nbformat_minor": 4
}

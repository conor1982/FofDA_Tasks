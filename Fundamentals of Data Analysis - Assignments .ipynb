{
 "cells": [
  {
   "cell_type": "markdown",
   "metadata": {},
   "source": [
    "# Fundamentals of Data Analysis - Assignments\n",
    "\n",
    "This file contains the output of each assignment as part of the Fundamentals of Data Analysis module."
   ]
  },
  {
   "cell_type": "markdown",
   "metadata": {},
   "source": [
    "## Overview\n",
    "\n",
    "This module will contain four different assingments to be completed\n",
    "\n",
    "* Assignment 1 Counts\n",
    "\n"
   ]
  },
  {
   "cell_type": "markdown",
   "metadata": {},
   "source": [
    "### Assignment 1 Counts\n",
    "Write a Python function called counts that takes a list as\n",
    "input and returns a dictionary of unique items in the list as keys and the number of\n",
    "times each item appears as values. So, the input ['A', 'A', 'B', 'C', 'A']\n",
    "should have output {'A': 3, 'B': 1, 'C': 1}\n",
    "\n",
    "[1] Tutorialspoint, Counting Frequencies in a list ising dictionary in Python; https://www.tutorialspoint.com/counting-the-frequencies-in-a-list-using-dictionary-in-python\n",
    "\n",
    "[2] Kite, How to count a frequency in Python; https://www.kite.com/python/answers/how-to-count-item-frequency-in-python\n",
    "\n",
    "[3] W3schools, Python List count() Method https://www.w3schools.com/python/ref_list_count.asp\n",
    "\n",
    "[4] GMIT lecture Video, For loops, Ian McLoughlin; https://web.microsoftstream.com/video/8492c53c-a684-4da9-a2c5-bce1d5c367a9\n",
    "\n",
    "[5] Adding item to a dictionary; https://www.w3schools.com/python/python_dictionaries.asp"
   ]
  },
  {
   "cell_type": "markdown",
   "metadata": {},
   "source": [
    "#### Assignment Project Plan\n",
    "* Jupyter notebook - refer to lecture videos\n",
    "* Revisit functions in Python. (Week 2 lecture vid)\n",
    "* Research user input of lists - case sensitive, list that can take numbers etc. Is user input required?\n",
    "* Research potential error handling whne deciding on what list to be used - String only, one letter string only etc.\n",
    "* Research count function in Python\n",
    "* Google for lists to dictionary counts etc. - no package allowed\n",
    "* Revise for loops\n",
    "\n",
    "- Bookmark online references!!"
   ]
  },
  {
   "cell_type": "code",
   "execution_count": 15,
   "metadata": {},
   "outputs": [],
   "source": [
    "# List - Research the possibilty of using a user input for a list? - Question for forum in regards task?\n",
    "# Case sensitive?\n",
    "# Mix of numbers and string list\n",
    "\n",
    "# Lists\n",
    "#List 1 - upper case letters\n",
    "list1 = ['A','A','B','C','A']\n",
    "\n",
    "#List 2 - mix of upper case leters, lower case letter, string symbols, integers, floats, words\n",
    "list2 = [1,2,3,4.56,\"22\",\"22\",\"@@\",\"@@\",\"@@\",'###','hello', 'hello',1255,1255.0]\n",
    "\n",
    "#List 3 - integers\n",
    "list3 = [1,1,1,1,3,4,5,6,7,7,7,7,7,7,7,9,9,9,9,9,9,9,9,9]\n",
    "\n",
    "#List 4 - floats\n",
    "list4 = [0.5654,0,5654,.11,1.23,1.23,1.23]\n",
    "\n",
    "#List 5 - Names\n",
    "list5 = ['Conor','Conor','Leo','Leo','Leo','Nancy','Rose','Connie','Aideen','Aideen']\n",
    "\n",
    "#List 6 - Joined Lists\n",
    "list6 = list1 + list5"
   ]
  },
  {
   "cell_type": "code",
   "execution_count": 16,
   "metadata": {},
   "outputs": [],
   "source": [
    "#count function\n",
    "def counts(l):\n",
    "    \"\"\"\n",
    "    A function to count the items in a list and returns a Dictionary with Keys and Counts\n",
    "    \n",
    "    \"\"\"\n",
    "    #variable to create an empty dictionary\n",
    "    frequency = {}\n",
    "    \n",
    "    #a for loop to loop through list items\n",
    "    for list_item in l:\n",
    "        #loop through list and add items to dict with a count\n",
    "        #list item dictionay key...........l.count dictionary values\n",
    "        frequency[list_item] = l.count(list_item)\n",
    "    #print output\n",
    "    print(frequency)\n"
   ]
  },
  {
   "cell_type": "markdown",
   "metadata": {},
   "source": [
    "##### Function test\n",
    "\n",
    "Test the function with different types of lists"
   ]
  },
  {
   "cell_type": "code",
   "execution_count": 17,
   "metadata": {
    "scrolled": true
   },
   "outputs": [
    {
     "name": "stdout",
     "output_type": "stream",
     "text": [
      "{'A': 3, 'B': 1, 'C': 1}\n",
      "{1: 1, 2: 1, 3: 1, 4.56: 1, '22': 2, '@@': 3, '###': 1, 'hello': 2, 1255: 2}\n",
      "{1: 4, 3: 1, 4: 1, 5: 1, 6: 1, 7: 7, 9: 9}\n",
      "{0.5654: 1, 0: 1, 5654: 1, 0.11: 1, 1.23: 3}\n",
      "{'Conor': 2, 'Leo': 3, 'Nancy': 1, 'Rose': 1, 'Connie': 1, 'Aideen': 2}\n",
      "{'A': 3, 'B': 1, 'C': 1, 'Conor': 2, 'Leo': 3, 'Nancy': 1, 'Rose': 1, 'Connie': 1, 'Aideen': 2}\n"
     ]
    }
   ],
   "source": [
    "#Test1\n",
    "counts(list1)\n",
    "\n",
    "#Test2\n",
    "counts(list2)\n",
    "\n",
    "#Test3\n",
    "counts(list3)\n",
    "\n",
    "#Test4\n",
    "counts(list4)\n",
    "\n",
    "#Test5\n",
    "counts(list5)\n",
    "\n",
    "#Test6\n",
    "counts(list6)"
   ]
  },
  {
   "cell_type": "code",
   "execution_count": 19,
   "metadata": {},
   "outputs": [],
   "source": [
    "#adding to a dictionary\n",
    "#emptydict = {}\n",
    "\n",
    "#emptydict['name'] = ['conor','aideen']\n",
    "#emptydict['age'] = [38 , 37]\n",
    "\n",
    "#print(emptydict)\n",
    "\n",
    "#print(len(emptydict))\n",
    "\n",
    "#emptydict['name']"
   ]
  }
 ],
 "metadata": {
  "kernelspec": {
   "display_name": "Python 3",
   "language": "python",
   "name": "python3"
  },
  "language_info": {
   "codemirror_mode": {
    "name": "ipython",
    "version": 3
   },
   "file_extension": ".py",
   "mimetype": "text/x-python",
   "name": "python",
   "nbconvert_exporter": "python",
   "pygments_lexer": "ipython3",
   "version": "3.8.3"
  }
 },
 "nbformat": 4,
 "nbformat_minor": 4
}

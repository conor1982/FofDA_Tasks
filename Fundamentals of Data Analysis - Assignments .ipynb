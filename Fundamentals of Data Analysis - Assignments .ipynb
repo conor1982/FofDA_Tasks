{
 "cells": [
  {
   "cell_type": "markdown",
   "metadata": {},
   "source": [
    "# Fundamentals of Data Analysis - Assignments\n",
    "\n",
    "This file contains the output of each assignment as part of the Fundamentals of Data Analysis module."
   ]
  },
  {
   "cell_type": "markdown",
   "metadata": {},
   "source": [
    "## Overview\n",
    "\n",
    "This module will contain four different assingments to be completed\n",
    "\n",
    "* Assignment 1 Counts\n",
    "\n"
   ]
  },
  {
   "cell_type": "markdown",
   "metadata": {},
   "source": [
    "### Assignment 1 Counts\n",
    "Write a Python function called counts that takes a list as\n",
    "input and returns a dictionary of unique items in the list as keys and the number of\n",
    "times each item appears as values. So, the input ['A', 'A', 'B', 'C', 'A']\n",
    "should have output {'A': 3, 'B': 1, 'C': 1}\n"
   ]
  },
  {
   "cell_type": "markdown",
   "metadata": {},
   "source": [
    "#### Refences Assignment 1\n",
    "\n",
    "[1] Tutorialspoint, Counting Frequencies in a list ising dictionary in Python; https://www.tutorialspoint.com/counting-the-frequencies-in-a-list-using-dictionary-in-python\n",
    "\n",
    "[2] Kite, How to count a frequency in Python; https://www.kite.com/python/answers/how-to-count-item-frequency-in-python\n",
    "\n",
    "[3] W3schools, Python List count() Method https://www.w3schools.com/python/ref_list_count.asp\n",
    "\n",
    "[4] GMIT lecture Video, For loops, Ian McLoughlin; https://web.microsoftstream.com/video/8492c53c-a684-4da9-a2c5-bce1d5c367a9\n",
    "\n",
    "[5] Adding item to a dictionary; https://www.w3schools.com/python/python_dictionaries.asp"
   ]
  },
  {
   "cell_type": "markdown",
   "metadata": {},
   "source": [
    "#### Assignment Project Plan\n",
    "* Jupyter notebook - refer to lecture videos\n",
    "* Revisit functions in Python. (Week 2 lecture vid)\n",
    "* Research user input of lists - case sensitive, list that can take numbers etc. Is user input required?\n",
    "* Research potential error handling whne deciding on what list to be used - String only, one letter string only etc.\n",
    "* Research count function in Python\n",
    "* Google for lists to dictionary counts etc. - no package allowed\n",
    "* Revise for loops\n",
    "\n",
    "- Bookmark online references!!"
   ]
  },
  {
   "cell_type": "code",
   "execution_count": 1,
   "metadata": {},
   "outputs": [],
   "source": [
    "# List - Research the possibilty of using a user input for a list? - Question for forum in regards task?\n",
    "# Case sensitive?\n",
    "# Mix of numbers and string list\n",
    "\n",
    "# Lists\n",
    "#List 1 - upper case letters\n",
    "list1 = ['A','A','B','C','A']\n",
    "\n",
    "#List 2 - lower case letters\n",
    "list2 = ['a','a','b','c','a']\n",
    "\n",
    "#list 3 - mix of lower and upper case\n",
    "list3 = ['A','a','B','c','C','A']\n",
    "\n",
    "#List 4 - mix of upper case leters, lower case letter, string symbols, integers, floats, words\n",
    "list4 = [1,2,3,4.56,\"22\",\"22\",\"@@\",\"@@\",\"@@\",'###','hello', 'hello',1255,1255.0]\n",
    "\n",
    "#List 5 - integers\n",
    "list5 = [1,1,1,1,3,4,5,6,7,7,7,7,7,7,7,9,9,9,9,9,9,9,9,9]\n",
    "\n",
    "#List 6 - floats\n",
    "list6 = [0.5654,0,5654,.11,1.23,1.23,1.23]\n",
    "\n",
    "#List 7 - Names\n",
    "list7 = ['Conor','Conor','Leo','Leo','Leo','Nancy','Rose','Connie','Aideen','Aideen']\n",
    "\n",
    "#List 8 - Joined Lists\n",
    "list8 = list1 + list5"
   ]
  },
  {
   "cell_type": "code",
   "execution_count": 2,
   "metadata": {},
   "outputs": [],
   "source": [
    "#count function\n",
    "def counts(l):\n",
    "    \"\"\"\n",
    "    A function to count the items in a list and returns a Dictionary with Keys and Counts\n",
    "    \n",
    "    \"\"\"\n",
    "    #variable to create an empty dictionary\n",
    "    frequency = {}\n",
    "    \n",
    "    #a for loop to loop through list items\n",
    "    \n",
    "    for list_item in l:\n",
    "        \n",
    "        #loop through list and add items to dict with a count\n",
    "        #list item dictionay key...........l.count dictionary values\n",
    "        frequency[list_item] = l.count(list_item)\n",
    "    #print output\n",
    "    print(frequency)\n"
   ]
  },
  {
   "cell_type": "markdown",
   "metadata": {},
   "source": [
    "##### Function test\n",
    "\n",
    "Test the function with different types of lists"
   ]
  },
  {
   "cell_type": "code",
   "execution_count": 3,
   "metadata": {},
   "outputs": [
    {
     "name": "stdout",
     "output_type": "stream",
     "text": [
      "Test 1: Uppercase Letters\n",
      "{'A': 3, 'B': 1, 'C': 1}\n",
      " \n",
      "Test 2: Lowercase Letters\n",
      "{'a': 3, 'b': 1, 'c': 1}\n",
      " \n",
      "Test 3: mix of lower and upper case:\n",
      "{'A': 2, 'a': 1, 'B': 1, 'c': 1, 'C': 1}\n",
      " \n",
      "Test 4: mix of upper case leters, lower case letter, string symbols, integers, floats, words\n",
      "{1: 1, 2: 1, 3: 1, 4.56: 1, '22': 2, '@@': 3, '###': 1, 'hello': 2, 1255: 2}\n",
      " \n",
      "Test 5:integers \n",
      "{1: 4, 3: 1, 4: 1, 5: 1, 6: 1, 7: 7, 9: 9}\n",
      " \n",
      "Test 6: floating numbers\n",
      "{0.5654: 1, 0: 1, 5654: 1, 0.11: 1, 1.23: 3}\n",
      "\n",
      "Test 7: words, names etc.\n",
      "{'Conor': 2, 'Leo': 3, 'Nancy': 1, 'Rose': 1, 'Connie': 1, 'Aideen': 2}\n",
      " \n",
      "Test 8: Joined Lists\n",
      "{'A': 3, 'B': 1, 'C': 1, 1: 4, 3: 1, 4: 1, 5: 1, 6: 1, 7: 7, 9: 9}\n"
     ]
    }
   ],
   "source": [
    "#Test1\n",
    "print(\"Test 1: Uppercase Letters\")\n",
    "counts(list1)\n",
    "print(\" \")\n",
    "#Test2\n",
    "print(\"Test 2: Lowercase Letters\")\n",
    "counts(list2)\n",
    "print(\" \")\n",
    "#Test3\n",
    "print(\"Test 3: mix of lower and upper case:\")\n",
    "counts(list3)\n",
    "print(\" \")\n",
    "#Test4\n",
    "print(\"Test 4: mix of upper case leters, lower case letter, string symbols, integers, floats, words\")\n",
    "counts(list4)\n",
    "print(\" \")\n",
    "#Test5\n",
    "print(\"Test 5:integers \")\n",
    "counts(list5)\n",
    "print(\" \")\n",
    "#Test6\n",
    "print(\"Test 6: floating numbers\")\n",
    "counts(list6)\n",
    "print(\"\")\n",
    "#Test7\n",
    "print(\"Test 7: words, names etc.\")\n",
    "counts(list7)\n",
    "print(\" \")\n",
    "print('Test 8: Joined Lists')\n",
    "#Test8\n",
    "counts(list8)"
   ]
  },
  {
   "cell_type": "code",
   "execution_count": 4,
   "metadata": {},
   "outputs": [],
   "source": [
    "#https://stackoverflow.com/questions/1801668/convert-a-python-list-with-strings-all-to-lowercase-or-uppercase\n",
    "#https://www.python-course.eu/python3_lambda.php\n",
    "\n",
    "#count function version 2 - case sensitivity\n",
    "def counts_1(l):\n",
    "    \"\"\"\n",
    "    A function to count the items in a list and returns a Dictionary with Keys and Counts\n",
    "    \n",
    "    \"\"\"\n",
    "    #var st (string) - lambda function to change all items to a string\n",
    "    #required for integer and float values with a list\n",
    "    st = list(map(lambda x: str(x),l))\n",
    "    \n",
    "    #var cs (case senstitive) - Lambda function to change all items to lowercase\n",
    "    cs = list(map(lambda x: x.lower(),st))\n",
    "    \n",
    "    #variable to create an empty dictionary\n",
    "    frequency = {}\n",
    "    \n",
    "    #a for loop to loop through list items\n",
    "    \n",
    "    for list_item in cs:\n",
    "        \n",
    "        #loop through list and add items to dict with a count\n",
    "        #list item dictionay key...........l.count dictionary values\n",
    "        #.title to capitalize the Key value of dictionary\n",
    "        frequency[list_item.title()] = cs.count(list_item)\n",
    "    #print output\n",
    "    print(frequency)"
   ]
  },
  {
   "cell_type": "code",
   "execution_count": 5,
   "metadata": {
    "scrolled": true
   },
   "outputs": [
    {
     "name": "stdout",
     "output_type": "stream",
     "text": [
      "Function ammended to ignore case sensitivity\n",
      "Test 1: Uppercase Letters\n",
      "{'A': 3, 'B': 1, 'C': 1}\n",
      " \n",
      "Test 2: Lowercase Letters\n",
      "{'A': 3, 'B': 1, 'C': 1}\n",
      " \n",
      "Test 3: mix of lower and upper case:\n",
      "{'A': 3, 'B': 1, 'C': 2}\n",
      " \n",
      "Test 4: mix of upper case leters, lower case letter, string symbols, integers, floats, words\n",
      "{'1': 1, '2': 1, '3': 1, '4.56': 1, '22': 2, '@@': 3, '###': 1, 'Hello': 2, '1255': 1, '1255.0': 1}\n",
      " \n",
      "Test 5:integers \n",
      "{'1': 4, '3': 1, '4': 1, '5': 1, '6': 1, '7': 7, '9': 9}\n",
      " \n",
      "Test 6: floating numbers\n",
      "{'0.5654': 1, '0': 1, '5654': 1, '0.11': 1, '1.23': 3}\n",
      "\n",
      "Test 7: words, names etc.\n",
      "{'Conor': 2, 'Leo': 3, 'Nancy': 1, 'Rose': 1, 'Connie': 1, 'Aideen': 2}\n",
      " \n",
      "Test 8: Joined Lists\n",
      "{'A': 3, 'B': 1, 'C': 1, '1': 4, '3': 1, '4': 1, '5': 1, '6': 1, '7': 7, '9': 9}\n"
     ]
    }
   ],
   "source": [
    "print(\"Function ammended to ignore case sensitivity\")\n",
    "#Test1\n",
    "print(\"Test 1: Uppercase Letters\")\n",
    "counts_1(list1)\n",
    "print(\" \")\n",
    "#Test2\n",
    "print(\"Test 2: Lowercase Letters\")\n",
    "counts_1(list2)\n",
    "print(\" \")\n",
    "#Test3\n",
    "print(\"Test 3: mix of lower and upper case:\")\n",
    "counts_1(list3)\n",
    "print(\" \")\n",
    "#Test4\n",
    "print(\"Test 4: mix of upper case leters, lower case letter, string symbols, integers, floats, words\")\n",
    "counts_1(list4)\n",
    "print(\" \")\n",
    "#Test5\n",
    "print(\"Test 5:integers \")\n",
    "counts_1(list5)\n",
    "print(\" \")\n",
    "#Test6\n",
    "print(\"Test 6: floating numbers\")\n",
    "counts_1(list6)\n",
    "print(\"\")\n",
    "#Test7\n",
    "print(\"Test 7: words, names etc.\")\n",
    "counts_1(list7)\n",
    "print(\" \")\n",
    "print('Test 8: Joined Lists')\n",
    "#Test8\n",
    "counts_1(list8)"
   ]
  },
  {
   "cell_type": "markdown",
   "metadata": {},
   "source": [
    "<br>\n",
    "\n",
    "\n",
    "***"
   ]
  },
  {
   "cell_type": "markdown",
   "metadata": {},
   "source": [
    "### Assignment 2 Counts\n",
    "Write a Python function called dicerolls that simulates\n",
    "rolling dice. Your function should take two parameters: the number of dice k and\n",
    "the number of times to roll the dice n. The function should simulate randomly\n",
    "rolling k dice n times, keeping track of each total face value. It should then return\n",
    "a dictionary with the number of times each possible total face value occurred. So,\n",
    "calling the function as diceroll(k=2, n=1000) should return a dictionary like: {'2': 19, '3': 50, '4': 82}\n",
    "\n",
    "[6] Numpy Random sampling; https://numpy.org/doc/stable/reference/random/generator.html#numpy.random.Generator\n",
    "https://numpy.org/doc/stable/reference/random/generated/numpy.random.Generator.integers.html#numpy.random.Generator.integers\n",
    "\n",
    "[7]Numpy Random sampling integer function; https://numpy.org/doc/stable/reference/random/generated/numpy.random.Generator.integers.html#numpy.random.Generator.integers"
   ]
  },
  {
   "cell_type": "markdown",
   "metadata": {},
   "source": [
    "#### Assignment Project Plan\n",
    "* Random Numbers - Numpy or Random libaries - maybe Numpy as it being used for in Prog for DA module\n",
    "* Research counter libary\n",
    "* Google for lists to dictionary counts etc.\n",
    "* Revise for loops\n",
    "* While loops\n",
    "* Seaborn distplot or Matplotlib for Histogram examples of different *n* sizes of the function\n",
    "- Bookmark online references!!"
   ]
  },
  {
   "cell_type": "code",
   "execution_count": 6,
   "metadata": {},
   "outputs": [],
   "source": [
    "import numpy as np\n",
    "import random\n",
    "import matplotlib.pyplot as plt\n",
    "import operator\n",
    "\n",
    "rng = np.random.default_rng()\n",
    "\n",
    "#initial blank function\n",
    "def counts(k=2, n=1000):\n",
    "    \"\"\"\n",
    "    A function to simulate 2 dice being thrown 1000 time and out the reults of the total face value in a dictionary\n",
    "    \n",
    "    \"\"\"\n",
    "#Walkthrough Steps\n",
    "\n",
    "#1. Empty Dictionary\n",
    "#2. variable for result\n",
    "\n"
   ]
  },
  {
   "cell_type": "markdown",
   "metadata": {},
   "source": [
    "* appending random number for loop, appending to list dict"
   ]
  },
  {
   "cell_type": "code",
   "execution_count": 7,
   "metadata": {},
   "outputs": [
    {
     "name": "stdout",
     "output_type": "stream",
     "text": [
      "3553\n",
      "{1: 3511, 2: 3513, 3: 3516, 4: 3537, 5: 3553, 6: 3543}\n"
     ]
    }
   ],
   "source": [
    "resultdict = {}\n",
    "\n",
    "result = 0\n",
    "\n",
    "n = 1000\n",
    "\n",
    "for x in range(n):\n",
    "    dice=rng.integers(1,6,endpoint=True)\n",
    "    result += dice\n",
    "    resultdict[dice] = result\n",
    "    std = dict(sorted(resultdict.items(),reverse=False))\n",
    "\n",
    "print(result)# sum of all the throws\n",
    "print(std)"
   ]
  },
  {
   "cell_type": "markdown",
   "metadata": {},
   "source": [
    "##### References to be tidied up later\n",
    "\n",
    "dice: https://www.sololearn.com/Discuss/1256683/python-dice-simulator-int-object-is-not-iterable\n",
    "\n",
    "dice: https://stackoverflow.com/questions/33069476/simulating-rolling-2-dice-in-python\n",
    "\n",
    "dictsort: https://stackoverflow.com/questions/20577840/python-dictionary-sorting-in-descending-order-based-on-values\n",
    "\n",
    "plot: https://stackoverflow.com/questions/53431971/plotting-histogram-on-python-with-dictionary"
   ]
  },
  {
   "cell_type": "code",
   "execution_count": 8,
   "metadata": {},
   "outputs": [
    {
     "data": {
      "image/png": "[encoded data removed]",
      "text/plain": [
       "<Figure size 432x288 with 1 Axes>"
      ]
     },
     "metadata": {
      "needs_background": "light"
     },
     "output_type": "display_data"
    }
   ],
   "source": [
    "# https://stackoverflow.com/questions/53431971/plotting-histogram-on-python-with-dictionary\n",
    "\n",
    "#Barchart instead of histogram because we know the values\n",
    "\n",
    "labels, values = zip(*resultdict.items())\n",
    "plt.bar(labels, values);"
   ]
  }
 ],
 "metadata": {
  "kernelspec": {
   "display_name": "Python 3",
   "language": "python",
   "name": "python3"
  },
  "language_info": {
   "codemirror_mode": {
    "name": "ipython",
    "version": 3
   },
   "file_extension": ".py",
   "mimetype": "text/x-python",
   "name": "python",
   "nbconvert_exporter": "python",
   "pygments_lexer": "ipython3",
   "version": "3.8.3"
  }
 },
 "nbformat": 4,
 "nbformat_minor": 4
}
